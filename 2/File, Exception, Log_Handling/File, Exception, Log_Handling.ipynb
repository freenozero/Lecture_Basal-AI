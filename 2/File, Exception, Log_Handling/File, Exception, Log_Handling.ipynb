{
 "cells": [
  {
   "cell_type": "markdown",
   "id": "3dfc17de",
   "metadata": {},
   "source": [
    "### 강의 소개\n",
    "\n",
    " \n",
    "\n",
    "이번 강의에서는 프로그램을 제대로 만들기 위해 알아야 하는 **예외 처리**와 **파일 다루기**에 대해서 배웁니다.\n",
    "\n",
    "대부분의 경우 우리가 만드는 프로그램에는 우리가 **예상치 못한 오류**가 생기곤 합니다. 이를 해결하기 위해서 사전에 모든 경우를 다 지정해서 대비하는 경우도 있지만, 특정 상황에서 발생할 수 있는 **예외**를 포괄적으로 지정해서 대비하는 경우도 있습니다. 또, 실제 프로그램을 작성할 때는 **파일에 존재하는 데이터**를 사용하는 경우가 많습니다.\n",
    "\n",
    "추가적으로 여러가지 **프로그램을 진행하면서 기록**을 남기는 로깅에 대해서도 배웁니다. **로그 데이터**를 남기는 건 오늘날 데이터 기반의 애플리케이션 개발에서 매우 중요한 이슈가 되고 있습니다. **로그 데이터**를 설계하는 것이 하나의 분야로 자리잡고 있을 만큼 매우 관심을 받고 있습니다.\n",
    "\n",
    "이번 장을 통해서 파이썬으로 데이터를 다루는 가장 기본적인 영역을 시작해보겠습니다."
   ]
  },
  {
   "cell_type": "markdown",
   "id": "4ca56a0b",
   "metadata": {},
   "source": [
    "## Exception\n",
    "1. 예상 가능한 예외(if문)\n",
    "- 발생 여부를 사전에 인지할 수 있는 예외\n",
    "- 사용자의 잘못된 입력, 파일 호출 시 파일 없음\n",
    "- 개발자가 반드시 명시적으로 정의 해야함\n",
    "2. 예상이 불가능한 예외(Exception Handling)\n",
    "- 인터프리터 과정에서 발생하는 예외, 개발자 실수\n",
    "- 리스트의 범위를 넘어가는 값 호출, 정수 0으로 나눔\n",
    "- 수행 불가시 인터프리터가 자동 호출\n",
    "\n",
    "# Exception Handling\n",
    "- try ~ except 문법<br>\n",
    "```Python\n",
    "try:\n",
    "    예외 발생 가능 코드\n",
    "except <Exception Type>:\n",
    "    예외 발생시 대응하는 코드\n",
    "```\n",
    "- try ~ except ~ else 문법<br>\n",
    "```Python\n",
    "try:\n",
    "    예외 발생 가능 코드\n",
    "except <Exception Type>:\n",
    "    예외 발생시 동작하는 코드\n",
    "else:\n",
    "    예외가 발생하지 않을 때 동작하는 코드\n",
    "```\n",
    "- try ~ except ~ finally 문법<br>\n",
    "```Python\n",
    "try:\n",
    "    예외 발생 가능 코드\n",
    "except <Exception Type>:\n",
    "    예외 발생시 동작하는 코드\n",
    "finally:\n",
    "    예외 발생 여부와 상관없이 실행됨\n",
    "```\n",
    "- raise 구문: 필요에 따라 강제로 Exception을 발생\n",
    "```Python\n",
    "raise <Exception Type> (예외정보)\n",
    "```\n",
    "- assert 구문: 특정 조건에 만족하지 않을 경우 예외 발생\n",
    "```Python\n",
    "assert 예외조건\n",
    "```"
   ]
  },
  {
   "cell_type": "code",
   "execution_count": 7,
   "id": "c4811434",
   "metadata": {},
   "outputs": [
    {
     "name": "stdout",
     "output_type": "stream",
     "text": [
      "Not divided by 0\n",
      "10.0\n",
      "5.0\n",
      "3.3333333333333335\n",
      "2.5\n",
      "2.0\n",
      "1.6666666666666667\n",
      "1.4285714285714286\n",
      "1.25\n",
      "1.1111111111111112\n"
     ]
    }
   ],
   "source": [
    "#try ~ except 문법\n",
    "for i in range(10):\n",
    "    try:\n",
    "        print(10/i)\n",
    "    except ZeroDivisionError:\n",
    "        print(\"Not divided by 0\")"
   ]
  },
  {
   "cell_type": "code",
   "execution_count": 10,
   "id": "ee2fd396",
   "metadata": {},
   "outputs": [
    {
     "name": "stdout",
     "output_type": "stream",
     "text": [
      "Not divided by 0\n",
      "10\n",
      "5\n",
      "3\n",
      "2\n",
      "2\n",
      "1\n",
      "1\n",
      "1\n",
      "1\n"
     ]
    }
   ],
   "source": [
    "#try ~ except ~ else 문법\n",
    "for i in range(10):\n",
    "    try:\n",
    "        result = 10//i\n",
    "    except ZeroDivisionError:\n",
    "        print(\"Not divided by 0\")\n",
    "    else:\n",
    "        print(10//i)"
   ]
  },
  {
   "cell_type": "code",
   "execution_count": 11,
   "id": "6bf57feb",
   "metadata": {},
   "outputs": [
    {
     "name": "stdout",
     "output_type": "stream",
     "text": [
      "10\n",
      "5\n",
      "3\n",
      "2\n",
      "2\n",
      "1\n",
      "1\n",
      "1\n",
      "1\n",
      "종료되었습니다.\n"
     ]
    }
   ],
   "source": [
    "#try ~ except ~ finally 문법\n",
    "try:\n",
    "    for i in range(1, 10):\n",
    "        result = 10//i\n",
    "        print(result)\n",
    "except ZeroDivisionError:\n",
    "    print(\"Not divided by 0\")\n",
    "finally:\n",
    "    print(\"종료되었습니다.\")"
   ]
  },
  {
   "cell_type": "code",
   "execution_count": 13,
   "id": "f7553bf8",
   "metadata": {},
   "outputs": [
    {
     "name": "stdout",
     "output_type": "stream",
     "text": [
      "변환할 정수 값을 입력해주세요: 1\n",
      "정수값으로 변환된 숫자 - 1\n",
      "변환할 정수 값을 입력해주세요: 2\n",
      "정수값으로 변환된 숫자 - 2\n",
      "변환할 정수 값을 입력해주세요: 3\n",
      "정수값으로 변환된 숫자 - 3\n",
      "변환할 정수 값을 입력해주세요: a\n"
     ]
    },
    {
     "ename": "ValueError",
     "evalue": "숫자 값을 입력하지 않으셨습니다",
     "output_type": "error",
     "traceback": [
      "\u001b[1;31m---------------------------------------------------------------------------\u001b[0m",
      "\u001b[1;31mValueError\u001b[0m                                Traceback (most recent call last)",
      "\u001b[1;32m<ipython-input-13-b3129e5347a9>\u001b[0m in \u001b[0;36m<module>\u001b[1;34m\u001b[0m\n\u001b[0;32m      4\u001b[0m     \u001b[1;32mfor\u001b[0m \u001b[0mdigit\u001b[0m \u001b[1;32min\u001b[0m \u001b[0mvalue\u001b[0m\u001b[1;33m:\u001b[0m\u001b[1;33m\u001b[0m\u001b[1;33m\u001b[0m\u001b[0m\n\u001b[0;32m      5\u001b[0m         \u001b[1;32mif\u001b[0m \u001b[0mdigit\u001b[0m \u001b[1;32mnot\u001b[0m \u001b[1;32min\u001b[0m \u001b[1;34m\"0123456789\"\u001b[0m\u001b[1;33m:\u001b[0m\u001b[1;33m\u001b[0m\u001b[1;33m\u001b[0m\u001b[0m\n\u001b[1;32m----> 6\u001b[1;33m             \u001b[1;32mraise\u001b[0m \u001b[0mValueError\u001b[0m\u001b[1;33m(\u001b[0m\u001b[1;34m\"숫자 값을 입력하지 않으셨습니다\"\u001b[0m\u001b[1;33m)\u001b[0m\u001b[1;33m\u001b[0m\u001b[1;33m\u001b[0m\u001b[0m\n\u001b[0m\u001b[0;32m      7\u001b[0m     \u001b[0mprint\u001b[0m\u001b[1;33m(\u001b[0m\u001b[1;34m\"정수값으로 변환된 숫자 -\"\u001b[0m\u001b[1;33m,\u001b[0m \u001b[0mint\u001b[0m\u001b[1;33m(\u001b[0m\u001b[0mvalue\u001b[0m\u001b[1;33m)\u001b[0m\u001b[1;33m)\u001b[0m\u001b[1;33m\u001b[0m\u001b[1;33m\u001b[0m\u001b[0m\n",
      "\u001b[1;31mValueError\u001b[0m: 숫자 값을 입력하지 않으셨습니다"
     ]
    }
   ],
   "source": [
    "#raise 구문\n",
    "while True:\n",
    "    value = input(\"변환할 정수 값을 입력해주세요: \")\n",
    "    for digit in value:\n",
    "        if digit not in \"0123456789\":\n",
    "            raise ValueError(\"숫자 값을 입력하지 않으셨습니다\")\n",
    "    print(\"정수값으로 변환된 숫자 -\", int(value))"
   ]
  },
  {
   "cell_type": "code",
   "execution_count": 16,
   "id": "5875de69",
   "metadata": {},
   "outputs": [
    {
     "ename": "AssertionError",
     "evalue": "",
     "output_type": "error",
     "traceback": [
      "\u001b[1;31m---------------------------------------------------------------------------\u001b[0m",
      "\u001b[1;31mAssertionError\u001b[0m                            Traceback (most recent call last)",
      "\u001b[1;32m<ipython-input-16-b2e38821c984>\u001b[0m in \u001b[0;36m<module>\u001b[1;34m\u001b[0m\n\u001b[0;32m      3\u001b[0m     \u001b[1;32massert\u001b[0m \u001b[0misinstance\u001b[0m\u001b[1;33m(\u001b[0m\u001b[0mdecimal_number\u001b[0m\u001b[1;33m,\u001b[0m \u001b[0mint\u001b[0m\u001b[1;33m)\u001b[0m \u001b[1;31m#type이 int가 아닐 때 False를 해서 예외 발생\u001b[0m\u001b[1;33m\u001b[0m\u001b[1;33m\u001b[0m\u001b[0m\n\u001b[0;32m      4\u001b[0m     \u001b[1;32mreturn\u001b[0m \u001b[0mbin\u001b[0m\u001b[1;33m(\u001b[0m\u001b[0mdecimal_number\u001b[0m\u001b[1;33m)\u001b[0m\u001b[1;33m\u001b[0m\u001b[1;33m\u001b[0m\u001b[0m\n\u001b[1;32m----> 5\u001b[1;33m \u001b[0mprint\u001b[0m\u001b[1;33m(\u001b[0m\u001b[0mget_binary_nmubmer\u001b[0m\u001b[1;33m(\u001b[0m\u001b[1;36m10.0\u001b[0m\u001b[1;33m)\u001b[0m\u001b[1;33m)\u001b[0m\u001b[1;33m\u001b[0m\u001b[1;33m\u001b[0m\u001b[0m\n\u001b[0m",
      "\u001b[1;32m<ipython-input-16-b2e38821c984>\u001b[0m in \u001b[0;36mget_binary_nmubmer\u001b[1;34m(decimal_number)\u001b[0m\n\u001b[0;32m      1\u001b[0m \u001b[1;31m#assert 구문\u001b[0m\u001b[1;33m\u001b[0m\u001b[1;33m\u001b[0m\u001b[1;33m\u001b[0m\u001b[0m\n\u001b[0;32m      2\u001b[0m \u001b[1;32mdef\u001b[0m \u001b[0mget_binary_nmubmer\u001b[0m\u001b[1;33m(\u001b[0m\u001b[0mdecimal_number\u001b[0m \u001b[1;33m:\u001b[0m \u001b[0mint\u001b[0m\u001b[1;33m)\u001b[0m\u001b[1;33m:\u001b[0m\u001b[1;33m\u001b[0m\u001b[1;33m\u001b[0m\u001b[0m\n\u001b[1;32m----> 3\u001b[1;33m     \u001b[1;32massert\u001b[0m \u001b[0misinstance\u001b[0m\u001b[1;33m(\u001b[0m\u001b[0mdecimal_number\u001b[0m\u001b[1;33m,\u001b[0m \u001b[0mint\u001b[0m\u001b[1;33m)\u001b[0m \u001b[1;31m#type이 int가 아닐 때 False를 해서 예외 발생\u001b[0m\u001b[1;33m\u001b[0m\u001b[1;33m\u001b[0m\u001b[0m\n\u001b[0m\u001b[0;32m      4\u001b[0m     \u001b[1;32mreturn\u001b[0m \u001b[0mbin\u001b[0m\u001b[1;33m(\u001b[0m\u001b[0mdecimal_number\u001b[0m\u001b[1;33m)\u001b[0m\u001b[1;33m\u001b[0m\u001b[1;33m\u001b[0m\u001b[0m\n\u001b[0;32m      5\u001b[0m \u001b[0mprint\u001b[0m\u001b[1;33m(\u001b[0m\u001b[0mget_binary_nmubmer\u001b[0m\u001b[1;33m(\u001b[0m\u001b[1;36m10.0\u001b[0m\u001b[1;33m)\u001b[0m\u001b[1;33m)\u001b[0m\u001b[1;33m\u001b[0m\u001b[1;33m\u001b[0m\u001b[0m\n",
      "\u001b[1;31mAssertionError\u001b[0m: "
     ]
    }
   ],
   "source": [
    "#assert 구문\n",
    "def get_binary_nmubmer(decimal_number : int):\n",
    "    assert isinstance(decimal_number, int) #type이 int가 아닐 때 False를 해서 예외 발생\n",
    "    return bin(decimal_number)\n",
    "print(get_binary_nmubmer(10.0))"
   ]
  },
  {
   "cell_type": "markdown",
   "id": "a78b5ae3",
   "metadata": {},
   "source": [
    "## exception의 종류\n",
    "#### - Built-in Exception: 기본적으로 제공하는 예외\n",
    "\n",
    "    IndexError -> List의 index 범위를 넘어갈 때\n",
    "\n",
    "    NameError -> 존재하지 않은 변수를 호출할 때\n",
    "\n",
    "    ZeroDivisonError -> 0으로 숫자를 나눌 때\n",
    "\n",
    "    ValueError -> 변환할 수 없는 문자/숫자를 변환할 때\n",
    "\n",
    "    FileNotFoundError -> 존재하지 않는 파일을 호출할 때\n"
   ]
  },
  {
   "cell_type": "code",
   "execution_count": 5,
   "id": "b7026663",
   "metadata": {},
   "outputs": [
    {
     "name": "stdout",
     "output_type": "stream",
     "text": [
      "Error\n",
      "Not divided by 0\n",
      "1 10\n",
      "2\n",
      "name 'v' is not defined\n",
      "2 5\n",
      "3\n",
      "name 'v' is not defined\n",
      "3 3\n",
      "4\n",
      "name 'v' is not defined\n",
      "4 2\n",
      "5\n",
      "name 'v' is not defined\n",
      "5 2\n",
      "list index out of range\n",
      "6 1\n",
      "list index out of range\n",
      "7 1\n",
      "list index out of range\n",
      "8 1\n",
      "list index out of range\n",
      "9 1\n",
      "list index out of range\n"
     ]
    }
   ],
   "source": [
    "a = [1,2,3,4,5]\n",
    "for i in range(10):\n",
    "    try:\n",
    "        print(i, 10 // i)\n",
    "        print(a[i])\n",
    "        print(v)\n",
    "    except ZeroDivisionError:\n",
    "        print(\"Error\")\n",
    "        print(\"Not divided by 0\")\n",
    "    except IndexError as e:\n",
    "        print(e)\n",
    "    except Exception as e: #모든 exception을 못 잡을 때...(권장하지 않음)\n",
    "        print(e)"
   ]
  },
  {
   "cell_type": "markdown",
   "id": "07b62e1b",
   "metadata": {},
   "source": [
    "# File Handling\n",
    "File System, 파일 시스템: OS에서 파일을 저장하는 트리구조 저장 체계\n",
    "\n",
    "File from wiki: 컴퓨터 등의 기기에서 의미 있는 정보를 담는 논리적인 단위, 모든 프로그램은 파일로 구성되어 있고, 파일을 사용한다.\n",
    "\n",
    "## 파일과 디렉토리\n",
    "- 파일의 기본체계: 파일 vs 디렉토리\n",
    "### 디렉토리(Directory)\n",
    "- 폴더 또는 디렉토리로 불림\n",
    "- 파일과 다른 디렉토리를 포함할 수 있음\n",
    "### 파일(File)\n",
    "- 컴퓨터에서 정보를 저장하는 논리적인 단위\n",
    "- 파일은 파일명과 확장자로 식별됨\n",
    "- 실행, 쓰기, 읽기 등을 할 수 있음\n",
    "\n",
    "## 파일의 종류\n",
    "- 기본적은 파일 종류는 text, binary 파일로 나뉨\n",
    "### Text파일\n",
    "- 인간도 이해할 수 있는 형태인 문자열 형식으로 저장된 파일\n",
    "- EX) HTML, Python code file\n",
    "### binary 파일\n",
    "- 컴퓨터만 이해할 수 있는 형태인 이진(법)형식으로 저장된 파일\n",
    "- 일반적으로 메모장으로 열면 내용이 깨져보임\n",
    "- EX) 엑셀파일, 워드 파일 등등\n",
    "\n",
    "# Python File I/O\n",
    "- 파이썬은 파일 처리를 위해 \"open\" 키워드를 사용함\n",
    "```Python\n",
    "f = open(\"<파일이름>\", \"접근모드\")\n",
    "f.close()\n",
    "```\n",
    "\n",
    "### 파일 열기 모드\n",
    "- r: 읽기 모드 - 파일을 읽기만 사용할 때 사용\n",
    "- w: 쓰기 모드 - 파일에 내용을 쓸 때 사용\n",
    "- a: 추가 모드 - 파일의 마지막에 새로운 내용을 추가 시킬 때 사용"
   ]
  },
  {
   "cell_type": "markdown",
   "id": "05fd807a",
   "metadata": {},
   "source": [
    "## File Read"
   ]
  },
  {
   "cell_type": "code",
   "execution_count": null,
   "id": "ecd0e007",
   "metadata": {},
   "outputs": [],
   "source": [
    "#read() txt파일 안에 있는 내용을 문자열로 반환, 대상 파일이 같은 폴더에 있을 경우\n",
    "f = open(\"i_have_a_dream.txt\", \"r\")\n",
    "contents = f.read()\n",
    "print(contents)\n",
    "f.close()"
   ]
  },
  {
   "cell_type": "code",
   "execution_count": null,
   "id": "1e0f6b5c",
   "metadata": {},
   "outputs": [],
   "source": [
    "#with 구문과 함께 사용하기\n",
    "with open(\"i_have_a_dream.txt\", \"r\") as my_file:\n",
    "    contents = my_file.read()\n",
    "    print(type(contents), contents)"
   ]
  },
  {
   "cell_type": "code",
   "execution_count": null,
   "id": "9f6b4e3a",
   "metadata": {},
   "outputs": [],
   "source": [
    "#한 줄씩 읽어 List Type으로 반환함\n",
    "with open(\"i_have_a_dream.txt\", \"r\") as my_file:\n",
    "    content_list = my_file.readlines() #파일 전체를 list로 반환\n",
    "    print(type(content_list)) #type 확인\n",
    "    print(content_list) #리스트 값 출력"
   ]
  },
  {
   "cell_type": "code",
   "execution_count": null,
   "id": "e04f2147",
   "metadata": {},
   "outputs": [],
   "source": [
    "#실행 시 마다 한 줄 씩 읽어오기\n",
    "with open(\"i_have_a_dream.txt\", \"r\") as my_file:\n",
    "    i = 0\n",
    "    while True:\n",
    "        line = my_file.readline()\n",
    "        if not line:\n",
    "            break\n",
    "        print(str(i) + \"===\" + line.replace(\"\\n\", \"\")) #한줄씩 값 출력\n",
    "        i = i+1"
   ]
  },
  {
   "cell_type": "code",
   "execution_count": null,
   "id": "b991ca3f",
   "metadata": {},
   "outputs": [],
   "source": [
    "#단어 통계 정보 산출\n",
    "with open(\"i_have_a_dream.txt\", \"r\") as my_file:\n",
    "    contents = my_file.read()\n",
    "    word_list = contents.split(\" \") #빈칸 기준으로 단어를 분리 리스트\n",
    "    line_list = contents.split(\"\\n\") #한줄 씩 분리하여 리스트\n",
    "print(\"Total Number of Characters : \", len(contents))\n",
    "print(\"Total Number of Words:\", len(word_list))\n",
    "print(\"Total Number of Lines:\", len(line_list))"
   ]
  },
  {
   "cell_type": "markdown",
   "id": "0b80f6c0",
   "metadata": {},
   "source": [
    "## File Write"
   ]
  },
  {
   "cell_type": "code",
   "execution_count": null,
   "id": "fa3fcfa7",
   "metadata": {},
   "outputs": [],
   "source": [
    "#mode는 \"w\", encoding=\"utf8\"\n",
    "f = open(\"count_log.txt\", \"w\", encoding=\"utf8\")\n",
    "for i in range(1, 11):\n",
    "    data = \"%d번째 줄입니다.\\n\" % i\n",
    "    f.write(data)\n",
    "f.close()"
   ]
  },
  {
   "cell_type": "code",
   "execution_count": null,
   "id": "94e2d971",
   "metadata": {},
   "outputs": [],
   "source": [
    "#mode는 \"a\" 추가 모두\n",
    "with open(\"count_log.txt\", 'a', encoding=\"utf8\") as f:\n",
    "    for i in range(1, 11):\n",
    "        data = \"%d번째 줄입니다.\\n\" % i\n",
    "        f.write(data)"
   ]
  },
  {
   "cell_type": "markdown",
   "id": "1daf3bdb",
   "metadata": {},
   "source": [
    "## 파이썬의 directory 다루기"
   ]
  },
  {
   "cell_type": "code",
   "execution_count": null,
   "id": "d020ee53",
   "metadata": {},
   "outputs": [],
   "source": [
    "import os\n",
    "os.mkdir(\"log\")"
   ]
  },
  {
   "cell_type": "code",
   "execution_count": null,
   "id": "512d8718",
   "metadata": {
    "collapsed": true
   },
   "outputs": [],
   "source": [
    "#디렉토리가 있는지 확인하기\n",
    "if not os.path.isdir(\"log\"):\n",
    "    os.mkdir(\"log\")"
   ]
  },
  {
   "cell_type": "code",
   "execution_count": 17,
   "id": "3e8e054c",
   "metadata": {},
   "outputs": [
    {
     "data": {
      "text/plain": [
       "[WindowsPath('C:/Users/freet/Pre-Course_4th/Lectur_Basal-AI/2/.ipynb_checkpoints'),\n",
       " WindowsPath('C:/Users/freet/Pre-Course_4th/Lectur_Basal-AI/2/File, Exception, Log_Handling.ipynb'),\n",
       " WindowsPath('C:/Users/freet/Pre-Course_4th/Lectur_Basal-AI/2/module_and_project.ipynb')]"
      ]
     },
     "execution_count": 17,
     "metadata": {},
     "output_type": "execute_result"
    }
   ],
   "source": [
    "#최근에는 pathlib 모듈을 사용하여 path를 객체로 다룸\n",
    "import pathlib\n",
    "cwd = pathlib.Path.cwd() #현재 디렉토리 위치 리턴\n",
    "cwd.parent #현재 디렉토리의 부모 위치까지 리턴\n",
    "list(cwd.parents) #리스트로 부모 위치들 list\n",
    "list(cwd.glob(\"*\")) #현재 폴더안의 모든 정보를 리턴"
   ]
  },
  {
   "cell_type": "markdown",
   "id": "b588aea9",
   "metadata": {},
   "source": [
    "## Log 파일 생성하기"
   ]
  },
  {
   "cell_type": "code",
   "execution_count": 24,
   "id": "1cda5e82",
   "metadata": {},
   "outputs": [],
   "source": [
    "import os\n",
    "if not os.path.isdir(\"log\"):\n",
    "    os.mkdir(\"log\")\n",
    "\n",
    "TARGET_FILE_PATH = os.path.join(\"log\", \"count_log.txt\")\n",
    "if not os.path.exists(\"TARGET_FILE_PATH\"):\n",
    "    f = open(\"log/count_log.txt\", \"w\", encoding=\"utf8\")\n",
    "    f.write(\"기록이 시작됩니다\\n\")\n",
    "    f.close()\n"
   ]
  },
  {
   "cell_type": "code",
   "execution_count": 38,
   "id": "4e56e7cf",
   "metadata": {},
   "outputs": [],
   "source": [
    "with open(\"log/count_log.txt\", \"a\", encoding=\"utf8\") as f:\n",
    "    import random, datetime\n",
    "    for i in range(1, 11):\n",
    "        stamp = str(datetime.datetime.now())\n",
    "        value = random.random() * 1000000\n",
    "        log_line = stamp + \"\\t\" + str(value) +\"값이 생성되었습니다.\" + \"\\n\"\n",
    "        f.write(log_line)"
   ]
  },
  {
   "cell_type": "markdown",
   "id": "0499a541",
   "metadata": {},
   "source": [
    "## Pickle\n",
    "- 파이썬 객체를 영속화(persistence)하는 bulit-in 객체\n",
    "- 데이터, object 등 실행 중 정보를 저장 -> 불러와서 사용\n",
    "- 저장해야하는 정보, 계산 결과(모델) 등 활용이 많음\n",
    "\n",
    "파이썬의 특화된 바이너리 파일"
   ]
  },
  {
   "cell_type": "code",
   "execution_count": 45,
   "id": "a04d18c7",
   "metadata": {},
   "outputs": [],
   "source": [
    "import pickle\n",
    "f = open(\"list.pickle\", \"wb\")\n",
    "test = [1,2,3,4,5]\n",
    "pickle.dump(test, f)\n",
    "f.close()"
   ]
  },
  {
   "cell_type": "code",
   "execution_count": 46,
   "id": "6913b2a1",
   "metadata": {},
   "outputs": [],
   "source": [
    "del test"
   ]
  },
  {
   "cell_type": "code",
   "execution_count": 48,
   "id": "7381b2ac",
   "metadata": {},
   "outputs": [
    {
     "data": {
      "text/plain": [
       "[1, 2, 3, 4, 5]"
      ]
     },
     "execution_count": 48,
     "metadata": {},
     "output_type": "execute_result"
    }
   ],
   "source": [
    "f = open(\"list.pickle\", \"rb\")\n",
    "test_pickle = pickle.load(f)\n",
    "test_pickle"
   ]
  },
  {
   "cell_type": "code",
   "execution_count": 50,
   "id": "97a66ba4",
   "metadata": {},
   "outputs": [],
   "source": [
    "import pickle\n",
    "class Mutltiply(object):\n",
    "    def __init__(self, multiplier):\n",
    "        self.multiplier = multiplier\n",
    "    def multiply(self, number):\n",
    "        return number * self.multiplier"
   ]
  },
  {
   "cell_type": "code",
   "execution_count": 52,
   "id": "7105d704",
   "metadata": {},
   "outputs": [
    {
     "data": {
      "text/plain": [
       "500"
      ]
     },
     "execution_count": 52,
     "metadata": {},
     "output_type": "execute_result"
    }
   ],
   "source": [
    "muliply = Mutltiply(5)\n",
    "muliply.multiply(100)"
   ]
  },
  {
   "cell_type": "code",
   "execution_count": 54,
   "id": "4d340c8d",
   "metadata": {},
   "outputs": [],
   "source": [
    "f = open(\"multiply_object.pickle\", \"wb\")\n",
    "pickle.dump(muliply, f)\n",
    "f.close()"
   ]
  },
  {
   "cell_type": "code",
   "execution_count": 55,
   "id": "6a9dd131",
   "metadata": {},
   "outputs": [],
   "source": [
    "del muliply"
   ]
  },
  {
   "cell_type": "code",
   "execution_count": 56,
   "id": "77c45a43",
   "metadata": {},
   "outputs": [
    {
     "ename": "NameError",
     "evalue": "name 'muliply' is not defined",
     "output_type": "error",
     "traceback": [
      "\u001b[1;31m---------------------------------------------------------------------------\u001b[0m",
      "\u001b[1;31mNameError\u001b[0m                                 Traceback (most recent call last)",
      "\u001b[1;32m<ipython-input-56-bbe633c82282>\u001b[0m in \u001b[0;36m<module>\u001b[1;34m\u001b[0m\n\u001b[1;32m----> 1\u001b[1;33m \u001b[0mmuliply\u001b[0m\u001b[1;33m\u001b[0m\u001b[1;33m\u001b[0m\u001b[0m\n\u001b[0m",
      "\u001b[1;31mNameError\u001b[0m: name 'muliply' is not defined"
     ]
    }
   ],
   "source": [
    "muliply"
   ]
  },
  {
   "cell_type": "code",
   "execution_count": 58,
   "id": "3043340c",
   "metadata": {},
   "outputs": [
    {
     "data": {
      "text/plain": [
       "500"
      ]
     },
     "execution_count": 58,
     "metadata": {},
     "output_type": "execute_result"
    }
   ],
   "source": [
    "f = open(\"multiply_object.pickle\", \"rb\")\n",
    "multiply_pickle = pickle.load(f)\n",
    "multiply_pickle.multiply(100)"
   ]
  },
  {
   "cell_type": "markdown",
   "id": "8d85ce0f",
   "metadata": {},
   "source": [
    "# Logging Handling\n",
    "## 로그 남기기 - Logging\n",
    "- 프로그램이 실행되는 동안 일어나는 정보를 기록을 남기기\n",
    "- 유저의 접근, 프로그램의 Excepption, 특정 함수의 사용\n",
    "- Console 화면에 출력, 파일에 남기기, DB에 남기기 등등\n",
    "- 기록된 로그를 분석하여 의미있는 결과를 도출할 수 있음\n",
    "- 실행시점에서 남겨야 하는 기록, 개발 시점에서 남겨야 하는 기록\n",
    "\n",
    "### print vs logging \n",
    "- 기록을 print로 남기는 것도 가능하지만 console 창에만 남기면 분석시에 사용 불가능\n",
    "- 때로는 레벨별(개발, 운영)로 기록을 남길 필요도 있음\n",
    "- 모듈별로 별도의 logging을 남길 필요도 있음\n",
    "- 이러한 기능을 체계적으로 지원하는 모듈이 필요함\n",
    "\n",
    "## logging 모듈\n",
    "- python의 기본 log 관리 모듈"
   ]
  },
  {
   "cell_type": "code",
   "execution_count": 61,
   "id": "116bda0f",
   "metadata": {},
   "outputs": [
    {
     "name": "stderr",
     "output_type": "stream",
     "text": [
      "WARNING:root:조심해!\n",
      "ERROR:root:에러났어!\n",
      "CRITICAL:root:망했다...\n"
     ]
    }
   ],
   "source": [
    "import logging\n",
    "#파이썬의 기본 레벨인 WARNING부터 나오기에 나머지는 안나옴\n",
    "logging.debug(\"틀렸잖아\")\n",
    "logging.info(\"확인해\")\n",
    "logging.warning(\"조심해!\")\n",
    "logging.error(\"에러났어!\")\n",
    "logging.critical(\"망했다...\") #프로그램이 정료되었을 떄"
   ]
  },
  {
   "cell_type": "markdown",
   "id": "c006376e",
   "metadata": {},
   "source": [
    "## logging level\n",
    "- 프로그램 진행 상황에 따라 다른 Level의 Log를 출력함\n",
    "- 개발 시점, 운영 시점마다 다른 Log가 남을 수 있도록 지원함\n",
    "- DEBUG > INFO > WARNING > ERROR < CRITICAL\n",
    "- Log 관리시 가장 기본이 되는 설정 정보\n",
    "\n",
    "**DEBUG: 개발시 처리 기록을 남겨야하는 로그 정보를 남김**<br>\n",
    "예시) 다음 함수로 A를 호출함<br>\n",
    "예시) 변수 A를 무엇으로 변경함\n",
    "\n",
    "**INFO: 처리가 진행되는 동안의 정보를 알림**<br>\n",
    "예시) 서버가 시작되었음, 서버가 종료되었음<br>\n",
    "예시) 사용자 A가 프로그램에 접속함\n",
    "\n",
    "**WARNING: 사용자가 잘못 입력한 정보나 처리는 가능하나 원래 개발시 의도치 않는 정보가 들어왔을 때 알림**<br>\n",
    "예시) Str 입력을 기대했으나, int가 입력됨 -> Str casting으로 처리함<br>\n",
    "예시) 함수에 argument로 이차원 리스트를 기대했으나 -> 일차원 리스트가 들어옴, 이차원으로 변환 후 사용\n",
    "\n",
    "**ERROR: 잘못된 처리로 인해 에러가 났으나, 프로그램은 동작할 수 있음을 알림**<br>\n",
    "예시) 파일에 기록을 해야하는데 파일이 없음 -> Exception 처리 후 사용자에게 알림\n",
    "예시) 외부 서비스와 연결 불가\n",
    "\n",
    "**CRITICAL: 잘못된 처리로 데이터 손실이나 더이상 프로그램이 동작할 수 없음을 알림**<br>\n",
    "예시) 잘못된 접근으로 해당 파일이 삭제됨<br>\n",
    "예시) 사용자의 의한 강제 종료"
   ]
  },
  {
   "cell_type": "code",
   "execution_count": 88,
   "id": "b1418d3c",
   "metadata": {},
   "outputs": [
    {
     "name": "stderr",
     "output_type": "stream",
     "text": [
      "INFO:main:확인해\n",
      "WARNING:main:조심해!\n",
      "ERROR:main:에러났어!\n",
      "CRITICAL:main:망했다...\n"
     ]
    }
   ],
   "source": [
    "import logging\n",
    "if __name__ == '__main__':\n",
    "    logger = logging.getLogger(\"main\")\n",
    "    logging.basicConfig(level = logging.DEBUG)\n",
    "    \n",
    "    logger.setLevel(logging.INFO)\n",
    "    \n",
    "    \n",
    "    #log 출력 어디에 할지\n",
    "    steam_handler = logging.FileHandler(\n",
    "        \"my.log\", mode =\"w\", encoding = \"utf8\")\n",
    "    \n",
    "    logger.addHandler(steam_handler)\n",
    "    \n",
    "\n",
    "    logger.debug(\"틀렸잖아\")\n",
    "    logger.info(\"확인해\")\n",
    "    logger.warning(\"조심해!\")\n",
    "    logger.error(\"에러났어!\")\n",
    "    logger.critical(\"망했다...\") #프로그램이 정료되었을 떄"
   ]
  },
  {
   "cell_type": "markdown",
   "id": "06ea40d1",
   "metadata": {},
   "source": [
    "### logging은 log 파일이나 level등 세팅을 해야하는 것이 많음(데이터 파일 위치, 파일 저장 장소, Operation Type 등\n",
    "### 사전에 세팅하는 방법\n",
    "1) configparser - 파일에<br>\n",
    "2) argparser - 실행 시점에\n",
    "\n",
    "### Configparser\n",
    "- 프로그램의 실행 설정을 file에 저장함\n",
    "- Section, Key, Value 값의 형태로 설정된 설정 파일을 사용\n",
    "- 설정파일을 Dict Type으로 호출 후 사용\n",
    "\n",
    "#### Config file : example.cfg 내용\n",
    "[Section One]\n",
    "\n",
    "Status: Single\n",
    "\n",
    "Name: Derek\n",
    "\n",
    "Value: YES\n",
    "\n",
    "Age: 30\n",
    "\n",
    "Single: True\n",
    "\n",
    "[SectionTwo]\n",
    "\n",
    "FavoriteColor = Green\n",
    "\n",
    "[SectionThree]\n",
    "\n",
    "FamilyName: Johnson"
   ]
  },
  {
   "cell_type": "code",
   "execution_count": 102,
   "id": "dfd166cf",
   "metadata": {},
   "outputs": [
    {
     "name": "stdout",
     "output_type": "stream",
     "text": [
      "['SectionOne', 'SectionTwo', 'SectionThree']\n",
      "status : Single\n",
      "name : Derek\n",
      "value : YES\n",
      "age : 30\n",
      "single : True\n"
     ]
    }
   ],
   "source": [
    "import configparser\n",
    "config = configparser.ConfigParser()\n",
    "\n",
    "config.read(\"example.cfg\")\n",
    "print(config.sections())\n",
    "\n",
    "for key in config['SectionOne']:\n",
    "    value = config['SectionOne'][key]\n",
    "    print(\"{0} : {1}\". format(key, value))"
   ]
  },
  {
   "cell_type": "markdown",
   "id": "ca364786",
   "metadata": {},
   "source": [
    "### Argparser\n",
    "- Console 창에서 프로그램 실행 시 Setting 정보를 저장함\n",
    "- 거의 모든 Console 기반 Python 프로그램 기본으로 제공\n",
    "- 특수 모듈도 많이 존재하지만(TF), 일반적으로 argparse를 사용\n",
    "- Command-Line Option이라고 부름\n",
    "\n",
    "https://github.com/abseil/abseil-py "
   ]
  },
  {
   "cell_type": "markdown",
   "id": "e98ed651",
   "metadata": {},
   "source": [
    "#agr_sum.py\n",
    "```Python\n",
    "import argparse\n",
    "\n",
    "parser = argparse.ArgumentParser(\n",
    "    description = 'Sum two integers.')\n",
    "\n",
    "parser.add_argument(\n",
    "    '-a', \"--a_value\",\n",
    "    dest=\"a\", help=\"A integers\", type=int,\n",
    "    required=True)\n",
    "\n",
    "parser.add_argument(\n",
    "    '-b', \"--b_balue\",\n",
    "    dest=\"b\", help=\"B integers\", type=int,\n",
    "    required=True)\n",
    "\n",
    "args = parser.parse_args()\n",
    "print(args)\n",
    "print(args.a)\n",
    "print(args.b)\n",
    "print(args.a + args.b)\n",
    "```\n",
    "\n",
    "**python arg_sum.py**\n",
    "\n",
    "라고 실행하면 help를 띄움\n",
    "\n",
    "**python arg_sum.py -a 10 -b 10**\n",
    "\n",
    "Namespace(a=10, b=10)\n",
    "\n",
    "10\n",
    "\n",
    "10\n",
    "\n",
    "20\n"
   ]
  },
  {
   "cell_type": "markdown",
   "id": "45732907",
   "metadata": {},
   "source": [
    "## Logging 적용하기\n",
    "### Logging formmater\n",
    "- Log의 결과값을 format을 지정할 수 있음\n",
    "```Python\n",
    "for matter = logging.Formatter('%(asctime)s %(levelname)s %(process)d %(message)s')\n",
    "```\n",
    "\n",
    "### Log config file\n",
    "- 어떤 형태의 config를 쓸지 선택\n",
    "```Python\n",
    "logging.config.fileConfig('logging.conf')\n",
    "logger = logging.getLogger()\n",
    "```"
   ]
  }
 ],
 "metadata": {
  "kernelspec": {
   "display_name": "Python 3",
   "language": "python",
   "name": "python3"
  },
  "language_info": {
   "codemirror_mode": {
    "name": "ipython",
    "version": 3
   },
   "file_extension": ".py",
   "mimetype": "text/x-python",
   "name": "python",
   "nbconvert_exporter": "python",
   "pygments_lexer": "ipython3",
   "version": "3.8.8"
  }
 },
 "nbformat": 4,
 "nbformat_minor": 5
}
